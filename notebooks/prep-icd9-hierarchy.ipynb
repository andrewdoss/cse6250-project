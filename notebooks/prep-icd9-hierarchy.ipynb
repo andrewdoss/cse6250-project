{
 "cells": [
  {
   "cell_type": "markdown",
   "metadata": {},
   "source": [
    "### Reformatting BioPortal ICD-9 Hierarchy for ICD9Tree Class "
   ]
  },
  {
   "cell_type": "markdown",
   "metadata": {},
   "source": [
    "https://bioportal.bioontology.org/ontologies/ICD9CM"
   ]
  },
  {
   "cell_type": "code",
   "execution_count": 1,
   "metadata": {},
   "outputs": [],
   "source": [
    "import pandas as pd\n",
    "import numpy as np"
   ]
  },
  {
   "cell_type": "code",
   "execution_count": 2,
   "metadata": {},
   "outputs": [],
   "source": [
    "data_path = '../data/'"
   ]
  },
  {
   "cell_type": "code",
   "execution_count": 3,
   "metadata": {},
   "outputs": [],
   "source": [
    "df = pd.read_csv(f'{data_path}ICD9CM.csv')"
   ]
  },
  {
   "cell_type": "code",
   "execution_count": 4,
   "metadata": {},
   "outputs": [],
   "source": [
    "# Parse strings into required format\n",
    "df['code'] = df['Class ID'].str.split('/').apply(lambda x: x[-1])\n",
    "df.dropna(subset=['Parents'], inplace=True)\n",
    "df['parent'] = df['Parents'].str.split('/').apply(lambda x: x[-1])\n",
    "df['parent'] = df['parent'].str.replace('owl#Thing','root')\n",
    "df['description'] = df['Preferred Label']\n",
    "df = df.loc[(df['code'].str.contains('T') != True) & (df['parent'].str.contains('T') != True), :]"
   ]
  },
  {
   "cell_type": "code",
   "execution_count": 5,
   "metadata": {},
   "outputs": [],
   "source": [
    "# Save outputs for use in ICD9Tree object construction\n",
    "df.to_csv(f'{data_path}node_desc.csv', index=False, columns=['code', 'description'], header=False)\n",
    "df.to_csv(f'{data_path}node_parent.csv', index=False, columns=['code', 'parent'], header=False)"
   ]
  },
  {
   "cell_type": "code",
   "execution_count": null,
   "metadata": {},
   "outputs": [],
   "source": []
  }
 ],
 "metadata": {
  "kernelspec": {
   "display_name": "Python (pytt)",
   "language": "python",
   "name": "pytt"
  },
  "language_info": {
   "codemirror_mode": {
    "name": "ipython",
    "version": 3
   },
   "file_extension": ".py",
   "mimetype": "text/x-python",
   "name": "python",
   "nbconvert_exporter": "python",
   "pygments_lexer": "ipython3",
   "version": "3.7.1"
  }
 },
 "nbformat": 4,
 "nbformat_minor": 2
}
