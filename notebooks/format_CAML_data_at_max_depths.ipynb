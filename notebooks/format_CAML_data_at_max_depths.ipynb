{
 "cells": [
  {
   "cell_type": "code",
   "execution_count": 1,
   "metadata": {
    "collapsed": true
   },
   "outputs": [],
   "source": [
    "import pandas as pd\n",
    "import numpy as np\n",
    "import sys\n",
    "sys.path.append('../')\n",
    "from icd9 import *\n",
    "from collections import defaultdict\n",
    "data_path = '../data/'\n",
    "mimic_path = '../data/restricted_mimic_iii'"
   ]
  },
  {
   "cell_type": "markdown",
   "metadata": {},
   "source": [
    "This notebook maps labels in CAML-formatted datasets to different maximum depths and confirms that the mapped-to codes exist in the format expected by CAML description lookups. To produce the CAML-formatted datasets required to run the code below, please see the CAML repo.\n",
    "Credit: https://github.com/jamesmullenbach/caml-mimic"
   ]
  },
  {
   "cell_type": "code",
   "execution_count": 2,
   "metadata": {},
   "outputs": [],
   "source": [
    "# Check which codes are in the CAML datasets but missing from the ICD9 tree\n",
    "caml_ds_codes = set()\n",
    "for split in ['train', 'dev', 'test']:\n",
    "    df = pd.read_csv(f'{mimic_path}/{split}_full.csv')\n",
    "    df['LABELS'].fillna('', inplace=True)\n",
    "    code_series = df['LABELS'].str.split(';').apply(set)\n",
    "    for code_set in code_series:\n",
    "        caml_ds_codes = caml_ds_codes.union(code_set)"
   ]
  },
  {
   "cell_type": "code",
   "execution_count": 3,
   "metadata": {
    "collapsed": true
   },
   "outputs": [],
   "source": [
    "# Build ICD-9 tree for use in mapping\n",
    "tree = ICD9Tree(f'{data_path}node_desc.csv', f'{data_path}node_parent.csv')"
   ]
  },
  {
   "cell_type": "code",
   "execution_count": 4,
   "metadata": {},
   "outputs": [
    {
     "data": {
      "text/plain": [
       "{'',\n",
       " '11.',\n",
       " '11.8',\n",
       " '12.',\n",
       " '13.',\n",
       " '14.',\n",
       " '15.',\n",
       " '16.',\n",
       " '17.',\n",
       " '17.0',\n",
       " '22.',\n",
       " '23.9',\n",
       " '29.6',\n",
       " '30.9',\n",
       " '32.',\n",
       " '34.',\n",
       " '36.01',\n",
       " '36.02',\n",
       " '36.05',\n",
       " '40.7',\n",
       " '43.',\n",
       " '45.',\n",
       " '47.4',\n",
       " '50.',\n",
       " '51.',\n",
       " '52.',\n",
       " '54.',\n",
       " '55.',\n",
       " '61.',\n",
       " '63.',\n",
       " '64.',\n",
       " '719.70',\n",
       " '93.'}"
      ]
     },
     "execution_count": 4,
     "metadata": {},
     "output_type": "execute_result"
    }
   ],
   "source": [
    "caml_ds_codes - tree.nodes.keys()"
   ]
  },
  {
   "cell_type": "markdown",
   "metadata": {},
   "source": [
    "I handle the 'XX.' pattern in the max_depth_labels helper (the tree drops trailing '.' chars). I am ignoring the other omissions for now, but it appears they are not matching the tree because they are the codes affected by the erroneous dropping of leading 0's issue from the CAML pipeline."
   ]
  },
  {
   "cell_type": "code",
   "execution_count": 5,
   "metadata": {},
   "outputs": [],
   "source": [
    "# This helper takes a series of sets of labels and maps to labels at\n",
    "# a maximum depth in the ICD-9 ontology\n",
    "def max_depth_labels(labels, max_depth, tree):\n",
    "    \"\"\"Helper for remapping labels to a maximum depth.\n",
    "    \n",
    "    Arguments\n",
    "    *********\n",
    "    labels : pandas Series of sets\n",
    "        A series containing sets of labels.\n",
    "    max_depth : int\n",
    "        The maximum depth to map labels to.\n",
    "    tree : ICD9Tree object\n",
    "        A tree object used for mapping nodes to ancestors. \n",
    "        \n",
    "    Returns\n",
    "    *******\n",
    "    A series with remapped labels\n",
    "    \"\"\"\n",
    "    # Buils a label-ancestor map for efficiency \n",
    "    temp_map = {}\n",
    "    results = []\n",
    "    for label_set in labels:\n",
    "        temp_set = set()\n",
    "        for label in label_set:\n",
    "            if label in temp_map:\n",
    "                temp_set.add(temp_map[label])\n",
    "            else:\n",
    "                if len(label) > 0:\n",
    "                    if label[-1] == '.':\n",
    "                        temp_node = tree.get_node(label[:-1])\n",
    "                    else:\n",
    "                        temp_node = tree.get_node(label)\n",
    "                else:\n",
    "                    temp_node = tree.get_node(label)\n",
    "                if temp_node is not None:\n",
    "                    while temp_node.depth > max_depth:\n",
    "                        temp_node = temp_node.parent\n",
    "                    temp_map[label] = temp_node.code\n",
    "                    temp_set.add(temp_node.code)\n",
    "        results.append(temp_set)\n",
    "        \n",
    "    return pd.Series(results)"
   ]
  },
  {
   "cell_type": "code",
   "execution_count": 6,
   "metadata": {},
   "outputs": [],
   "source": [
    "# The following files are used for indexing codes in CAML.\n",
    "# I will load them into a set to confirm codes are mapped to new codes that will be recognized by CAML\n",
    "diag_desc_df = pd.read_csv(mimic_path+'/D_ICD_DIAGNOSES.csv')\n",
    "proc_desc_df = pd.read_csv(mimic_path+'/D_ICD_PROCEDURES.csv')\n",
    "icd_desc_df = pd.read_csv(mimic_path+'/ICD9_descriptions', header=None,\n",
    "                          delimiter='\\t', names=['ICD9_CODE', 'description'])"
   ]
  },
  {
   "cell_type": "code",
   "execution_count": 7,
   "metadata": {
    "collapsed": true
   },
   "outputs": [],
   "source": [
    "# This helper is directly from the CAML code \n",
    "def reformat(code, is_diag):\n",
    "    \"\"\"\n",
    "        Put a period in the right place because the MIMIC-3 data files exclude them.\n",
    "        Generally, procedure codes have dots after the first two digits, \n",
    "        while diagnosis codes have dots after the first three digits.\n",
    "    \"\"\"\n",
    "    code = ''.join(code.split('.'))\n",
    "    if is_diag:\n",
    "        if code.startswith('E'):\n",
    "            if len(code) > 4:\n",
    "                code = code[:4] + '.' + code[4:]\n",
    "        else:\n",
    "            if len(code) > 3:\n",
    "                code = code[:3] + '.' + code[3:]\n",
    "    else:\n",
    "        code = code[:2] + '.' + code[2:]\n",
    "    return code"
   ]
  },
  {
   "cell_type": "code",
   "execution_count": 8,
   "metadata": {},
   "outputs": [],
   "source": [
    "# Reformat codes from mimic-iii to CAML format\n",
    "diag_desc_df['ICD9_CODE'] = diag_desc_df['ICD9_CODE'].apply(reformat, is_diag=True)\n",
    "proc_desc_df['ICD9_CODE'] = diag_desc_df['ICD9_CODE'].apply(reformat, is_diag=False)"
   ]
  },
  {
   "cell_type": "code",
   "execution_count": 9,
   "metadata": {},
   "outputs": [],
   "source": [
    "# Build set of codes\n",
    "caml_codes = diag_desc_df['ICD9_CODE'].tolist()\n",
    "caml_codes.extend(proc_desc_df['ICD9_CODE'].tolist())\n",
    "caml_codes.extend(icd_desc_df['ICD9_CODE'].tolist())\n",
    "caml_codes = set(caml_codes)"
   ]
  },
  {
   "cell_type": "code",
   "execution_count": 10,
   "metadata": {},
   "outputs": [
    {
     "name": "stdout",
     "output_type": "stream",
     "text": [
      "Warning: {'V88.0', '39.89', 'E016', '610-612.99', '17.33', '85.73', 'E000-E999.9', '53.43', '359.7', 'V91-V91.99', '349.3', '339.0', '53.72', '45.82', '339.1', 'E006', '53.42', '558.4', '249.0', 'V91.0', '249.9', 'E800-E848.9', 'E007', '539.8', '569.7', '365.7', '294.2', '488.0', '17.5', '209.4', '53.83', 'V88', '85.74', '249.5', '209.7', '17-17.99', '209-209.99', '453.7', 'V01-V91.99', '38.97', '35.05', '17.56', '453.5', '84.94', '32.27', 'E002', 'E849-E849.9', '339.2', '539', '209', 'E013', '630-679.99', '320-326.99', 'V90.3', '39.75', '53.84', 'V88.2', '17.7', 'E003', 'V90', '530-539.99', 'V87.4', '17.55', '625.7', '43.82', '327-327.99', '050-059.99', 'E008', 'V90-V90.99', '670.1', '209.6', '17.35', '249.6', '17.4', '046.7', '53.62', '53.71', '209.3', 'E001-E030.9', 'V90.8', '209.5', '346.7', '17', '249-259.99', '338-338.99', '695.5', '37.36', '249', 'E000', 'V90.1', '17.3', '249.1', '45.81', '799.5', 'E001', '209.2', '535.7', '48.51', '80.54', '279.5', '39.76', 'E029', 'E000-E000.9', 'V87-V87.99', '17.71', '339-339.99', '45.83', '796.7', '447.7', '707.2', '339', 'V88-V88.99', '17.36', 'V87', '209.0', '46.86', '68.25', '249.8', 'V88.1', '39.77', '85.71', '339.8', '39.78', 'V87.0', '488.1', 'E019', '48.52', 'V91', '209.1'} not found in CAML codes. This may cause problems if using DR-CAML.\n"
     ]
    }
   ],
   "source": [
    "# Load in CAML-formatted datasets with all codes\n",
    "not_found = set()\n",
    "for split in ['train', 'dev', 'test']:\n",
    "    df = pd.read_csv(f'{mimic_path}/{split}_full.csv')\n",
    "    df['LABELS'].fillna('', inplace=True)\n",
    "    df['LABELS'] = df['LABELS'].str.split(';').apply(set)\n",
    "    for md in range(1,8):\n",
    "        df['md'] = max_depth_labels(df['LABELS'], md, tree)\n",
    "        for new_set in df['md']:\n",
    "            for code in new_set:\n",
    "                if code not in caml_codes:\n",
    "                    not_found.add(code)\n",
    "        df['md'] = df['md'].apply(lambda x : ';'.join(list(x)))\n",
    "        df.to_csv(f'{mimic_path}/{split}_md{md}.csv', columns=[f'SUBJECT_ID', 'HADM_ID', 'TEXT', 'md', 'length'],\n",
    "                  header=['SUBJECT_ID', 'HADM_ID', 'TEXT', 'LABELS', 'length'], index=False)\n",
    "print(f'Warning: {not_found} not found in CAML codes. This may cause problems if using DR-CAML.')"
   ]
  }
 ],
 "metadata": {
  "kernelspec": {
   "display_name": "fa19",
   "language": "python",
   "name": "fa19"
  },
  "language_info": {
   "codemirror_mode": {
    "name": "ipython",
    "version": 3
   },
   "file_extension": ".py",
   "mimetype": "text/x-python",
   "name": "python",
   "nbconvert_exporter": "python",
   "pygments_lexer": "ipython3",
   "version": "3.7.3"
  }
 },
 "nbformat": 4,
 "nbformat_minor": 2
}
